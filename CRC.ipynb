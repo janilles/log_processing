{
  "nbformat": 4,
  "nbformat_minor": 0,
  "metadata": {
    "colab": {
      "name": "CRC.ipynb",
      "provenance": [],
      "collapsed_sections": [],
      "toc_visible": true,
      "include_colab_link": true
    },
    "kernelspec": {
      "name": "python3",
      "display_name": "Python 3"
    }
  },
  "cells": [
    {
      "cell_type": "markdown",
      "metadata": {
        "id": "view-in-github",
        "colab_type": "text"
      },
      "source": [
        "<a href=\"https://colab.research.google.com/github/janilles/log_processing/blob/master/CRC.ipynb\" target=\"_parent\"><img src=\"https://colab.research.google.com/assets/colab-badge.svg\" alt=\"Open In Colab\"/></a>"
      ]
    },
    {
      "cell_type": "markdown",
      "metadata": {
        "id": "qfbxWT2o4dYO",
        "colab_type": "text"
      },
      "source": [
        "# CRC server logs porcessing\n",
        "NOTE: Do not use Runtime --> Run all \n",
        "\n",
        "Processed data is stored in CRC_database Google Sheet on the team's Google Drive."
      ]
    },
    {
      "cell_type": "markdown",
      "metadata": {
        "id": "EAKKYSrI6XDT",
        "colab_type": "text"
      },
      "source": [
        "## Notebook set up and authentication of Google API"
      ]
    },
    {
      "cell_type": "code",
      "metadata": {
        "id": "MkCUowDE-EJd",
        "colab_type": "code",
        "cellView": "both",
        "colab": {}
      },
      "source": [
        "#@title Set up including client spreadsheet object\n",
        "# install gspread library \n",
        "!pip install -U -q gspread\n",
        "\n",
        "# to interact with Google Sheets API\n",
        "import gspread\n",
        "\n",
        "# Google API authentication \n",
        "from google.oauth2.service_account import Credentials\n",
        "\n",
        "# used for file upload prompts\n",
        "from google.colab import files\n",
        "\n",
        "# used for reading CSVs\n",
        "import pandas as pd\n",
        "\n",
        "# used in downloads function for campaign names\n",
        "import re\n",
        "\n",
        "# from Google genereated json keyfile\n",
        "# used in credentials\n",
        "keyfile_dict = {\n",
        "}\n",
        "\n",
        "# used in credetials\n",
        "# drive scope needed for file management\n",
        "scope = ['https://spreadsheets.google.com/feeds',\n",
        "         'https://www.googleapis.com/auth/drive']\n",
        "\n",
        "# if using json instead of dict change to: .from_service_account_file\n",
        "credentials = Credentials.from_service_account_info(keyfile_dict, scopes=scope)\n",
        "\n",
        "# create gspread.client.Client object\n",
        "gc = gspread.authorize(credentials)\n",
        "\n",
        "# create client spreadsheet object\n",
        "sh = gc.open(\"CRC_database\")\n"
      ],
      "execution_count": 0,
      "outputs": []
    },
    {
      "cell_type": "markdown",
      "metadata": {
        "id": "1aKsqTxtx6aP",
        "colab_type": "text"
      },
      "source": [
        "# Downloads report"
      ]
    },
    {
      "cell_type": "markdown",
      "metadata": {
        "id": "ujQFq06X9p_W",
        "colab_type": "text"
      },
      "source": [
        "## Upload file from your computer"
      ]
    },
    {
      "cell_type": "code",
      "metadata": {
        "id": "jvDrIUH83piz",
        "colab_type": "code",
        "cellView": "form",
        "colab": {}
      },
      "source": [
        "#@title Downloads file\n",
        "# upload widget\n",
        "file = files.upload()\n",
        "\n",
        "# get file name\n",
        "for name in file.items():\n",
        "    downloads_file_name = name[0]\n",
        "\n",
        "# make sure 'downloads' file has been uploaded\n",
        "if 'loads' in downloads_file_name:\n",
        "    # read file\n",
        "    downloads = pd.read_csv(downloads_file_name)\n",
        "else:\n",
        "    print('Are you sure this is a downloads file?')\n",
        "\n",
        "# preview last five rows \n",
        "downloads.tail()\n"
      ],
      "execution_count": 0,
      "outputs": []
    },
    {
      "cell_type": "markdown",
      "metadata": {
        "id": "gAoXwsG8GneU",
        "colab_type": "text"
      },
      "source": [
        "## Response type overview\n",
        "Just to quickly check the data quality"
      ]
    },
    {
      "cell_type": "code",
      "metadata": {
        "id": "fuSQJrarHJx_",
        "colab_type": "code",
        "cellView": "form",
        "colab": {}
      },
      "source": [
        "#@title Rows count summary\n",
        "downloads['response_type'].value_counts()"
      ],
      "execution_count": 0,
      "outputs": []
    },
    {
      "cell_type": "code",
      "metadata": {
        "id": "rwQgytk1GmK0",
        "colab_type": "code",
        "cellView": "form",
        "colab": {}
      },
      "source": [
        "#@title Downlaods summary\n",
        "all_downloads = downloads['requests'].sum()\n",
        "success_downloads = downloads[downloads['response_type'] == 'Success']['requests'].sum()\n",
        "error_downloads = all_downloads - success_downloads\n",
        "per_cent_successful = round((success_downloads/all_downloads)*100, 1)\n",
        "\n",
        "print(f'{all_downloads} total downloads')\n",
        "print(f'{success_downloads} succesful downloads')\n",
        "print(f'{error_downloads} errors when downloading')\n",
        "print(f'{per_cent_successful}% were successful')\n"
      ],
      "execution_count": 0,
      "outputs": []
    },
    {
      "cell_type": "markdown",
      "metadata": {
        "id": "MIVqlqWa-Q8V",
        "colab_type": "text"
      },
      "source": [
        "## Format and clean downloads file"
      ]
    },
    {
      "cell_type": "code",
      "metadata": {
        "id": "h2XffTmbyD14",
        "colab_type": "code",
        "colab": {}
      },
      "source": [
        "# filter out error reponse types\n",
        "downloads = downloads[downloads['response_type'] != 'Error']\n",
        "\n",
        "# drop response type column\n",
        "downloads.drop(columns=['response_type'], inplace=True)\n",
        "\n",
        "# remove file extensions and 'documnets/' from object name\n",
        "downloads['object'] = downloads['object'].str.replace(r'documents/|\\.zip|\\.wav|\\.jpg|\\.mp4','')\n",
        "\n",
        "# replace + _ %2B with space\n",
        "downloads['object'] = downloads['object'].str.replace('\\+|_|%2B',' ')\n",
        "\n",
        "# remove leading dates and typos 'i'\n",
        "downloads['object'] = downloads['object'].str.lstrip('0123456789. i')\n",
        "\n",
        "# preview file\n",
        "downloads.head()\n"
      ],
      "execution_count": 0,
      "outputs": []
    },
    {
      "cell_type": "markdown",
      "metadata": {
        "id": "_OkVgaBce-Ri",
        "colab_type": "text"
      },
      "source": [
        "## Add campaigns column"
      ]
    },
    {
      "cell_type": "code",
      "metadata": {
        "id": "fLFXW54AdEOB",
        "colab_type": "code",
        "colab": {}
      },
      "source": [
        "d = {'a':\n",
        "     'abc|'\n",
        "     'def'}\n",
        "d"
      ],
      "execution_count": 0,
      "outputs": []
    },
    {
      "cell_type": "code",
      "metadata": {
        "id": "1wY1GUHikGUu",
        "colab_type": "code",
        "colab": {}
      },
      "source": [
        "# create campaign dictionary \n",
        "# key = campaign name, value = string or regex to look for\n",
        "campaigns_dictionary = {\n",
        "    'Looking Out For Each Other':\n",
        "        'lookingout|looking out',\n",
        "    'Stay Home For Your Family':\n",
        "        'family',\n",
        "    'Symptoms':\n",
        "        'symptoms',\n",
        "    'Trifetica Lockup':\n",
        "        'trifecta',\n",
        "    'Age Specific: Anyone Can Get It':\n",
        "        'age specific|BAME Assets', # BAME needs reviewing\n",
        "    'Anyone Can Get It':\n",
        "        '(?=.*anyone can get)^((?!age).)*$', # anyone can get it AND NOT age\n",
        "    'Door Drop':\n",
        "        'prime minister|door drop|doordrop',\n",
        "    'Hand Hygiene':\n",
        "        'HH|hand hygiene|handhygiene|handwashing',\n",
        "    'NHS Recources':\n",
        "        'nhs|children|gp|hospital|pharma|Health At Home Toolkit and Assets',\n",
        "    'Now More Than Ever EMM':\n",
        "        'every mind matters|emm',\n",
        "    'Ports of Entry':\n",
        "        'ports',\n",
        "    'Stay At Home Save Lives':\n",
        "        'save lives|anyone can spread it|' # resources with bad zip file names below\n",
        "        'DOOH 6 - updated 2020.04.07|Digital Screens - updated 2020.04.07|'\n",
        "        'Email Signatures - updated 2020.04.07|Radio Resources - updated 2020.04.07|'\n",
        "        'Social Media Resources - updated 2020.04.07|'\n",
        "        'Translated Resources - updated 2020.04.16|Web Banners - updated 2020.04.07'\n",
        "}\n",
        "\n",
        "# function mapping resource names to campaigns \n",
        "def adds_campaign_name(row):\n",
        "    for key, value in campaigns_dictionary.items():\n",
        "        if re.search(value, row['object'], re.I) is not None:\n",
        "            return key\n",
        "\n",
        "# create a new colum for campaign names\n",
        "downloads['campaign'] = downloads.apply(lambda row: adds_campaign_name(row), axis=1)\n",
        "\n",
        "# preview new dataframe\n",
        "downloads.head()\n"
      ],
      "execution_count": 0,
      "outputs": []
    },
    {
      "cell_type": "markdown",
      "metadata": {
        "id": "ZtMuc2nVwb6X",
        "colab_type": "text"
      },
      "source": [
        "## Add resource type column"
      ]
    },
    {
      "cell_type": "code",
      "metadata": {
        "id": "Slq_jqvFwhzu",
        "colab_type": "code",
        "colab": {}
      },
      "source": [
        "# create resource type dictionary \n",
        "# key = resource type, value = string present in log object\n",
        "resource_type = {\n",
        "    'Posters': 'poster',\n",
        "    'Digital Screens': 'digitalscreen|digital screen',\n",
        "    'Email Signatures': 'emailsig|email sig|esignature',\n",
        "    'Web Banners': 'webban|web ban|website ban|websiteban|'\n",
        "        'Age Specific Anyone Can Get It', # bad zip file name factored in\n",
        "    'Social Media': 'socialmed|social med|social ass|socialass|social post|'\n",
        "        'BAME Assets', # bad zip file name factored in\n",
        "    'Radio': 'radio',\n",
        "    'TV Ad': 'tvad|tv ad',\n",
        "    'Digital out-of-home': 'digital out of home|digital out-of-home|digital ooh|dooh',\n",
        "    'Door Drop Resource': 'prime minister|door drop|doordrop',\n",
        "    'Pull Up Banners': 'pull up banner|pull-up banner',\n",
        "    'Alternative Formats': 'alternative for|alternativefor',\n",
        "    'Social Distancing': 'socialdist|social dist',\n",
        "    'Toolkit': 'toolkit'\n",
        "}\n",
        "\n",
        "# function mapping resource types to resource objects \n",
        "def adds_resource_type(row):\n",
        "    for key, value in resource_type.items():\n",
        "        if re.search(value, row['object'], re.I) is not None:\n",
        "            return key\n",
        "\n",
        "# create a new colum for resource type\n",
        "downloads['resource type'] = downloads.apply(\n",
        "    lambda row: adds_resource_type(row), axis=1)\n",
        "\n",
        "# remove empty objects\n",
        "downloads = downloads[downloads['object'] != '']\n",
        "\n",
        "# preview new dataframe\n",
        "downloads.head()\n"
      ],
      "execution_count": 0,
      "outputs": []
    },
    {
      "cell_type": "markdown",
      "metadata": {
        "id": "GjCm1KoGNBur",
        "colab_type": "text"
      },
      "source": [
        "## Send downloads data to Google Sheets\n",
        "Change worksheet name in the widget below if necessary"
      ]
    },
    {
      "cell_type": "code",
      "metadata": {
        "id": "hPb8wJy5FuZF",
        "colab_type": "code",
        "cellView": "form",
        "colab": {}
      },
      "source": [
        "#@title Sending to this worksheet tab\n",
        "downloads_worksheet = 'Downloads_API' #@param {type:\"string\"}\n",
        "# create list of lists\n",
        "lol_downloads = downloads.values.tolist()\n",
        "\n",
        "# load values to relevant worksheet on the spreadsheet\n",
        "sh.values_append(\n",
        "    downloads_worksheet, # worksheet name as it appears on the existing file\n",
        "    {'valueInputOption': 'USER_ENTERED'}, # as if entered by a person in Google Sheets UI\n",
        "    {'values': lol_downloads} \n",
        "    )\n"
      ],
      "execution_count": 0,
      "outputs": []
    },
    {
      "cell_type": "markdown",
      "metadata": {
        "id": "0glS-VdUtezv",
        "colab_type": "text"
      },
      "source": [
        "# Pages report"
      ]
    },
    {
      "cell_type": "markdown",
      "metadata": {
        "colab_type": "text",
        "id": "or7Szk9MbOz0"
      },
      "source": [
        "## Upload file from your computer"
      ]
    },
    {
      "cell_type": "code",
      "metadata": {
        "colab_type": "code",
        "id": "cRTG6jPJbOz2",
        "cellView": "form",
        "colab": {}
      },
      "source": [
        "#@title Page views file\n",
        "# upload widget\n",
        "file = files.upload()\n",
        "\n",
        "# get file name\n",
        "for name in file.items():\n",
        "    pages_file_name = name[0]\n",
        "\n",
        "# make sure 'page' file has been uploaded\n",
        "if 'age' in pages_file_name:\n",
        "    # read file\n",
        "    pages = pd.read_csv(pages_file_name)\n",
        "else:\n",
        "    print('Are you sure this is a page views file?')\n",
        "\n",
        "# preview last five rows \n",
        "pages.tail()\n"
      ],
      "execution_count": 0,
      "outputs": []
    },
    {
      "cell_type": "markdown",
      "metadata": {
        "colab_type": "text",
        "id": "Xz2os2febO0F"
      },
      "source": [
        "## Format and clean page views file"
      ]
    },
    {
      "cell_type": "code",
      "metadata": {
        "colab_type": "code",
        "id": "TgQ398LWbO0F",
        "colab": {}
      },
      "source": [
        "# filter out error reponse types\n",
        "pages = pages[pages['response_type'] != 'Error']\n",
        "\n",
        "# drop response type column\n",
        "pages.drop(columns=['response_type'], inplace=True)\n",
        "\n",
        "# remove trailing backslash character\n",
        "pages['path'] = pages['path'].str.rstrip('/')\n",
        "\n",
        "# drop rows containing these words or characters\n",
        "pages = pages[~pages['path'].str.contains('favicon|static|prod-assets|\\?')]\n",
        "\n",
        "# merge duplicate path names\n",
        "pages = pages.groupby(['date', 'path'], as_index=False)['requests'].sum()\n",
        "\n",
        "# preview file\n",
        "pages.tail()\n"
      ],
      "execution_count": 0,
      "outputs": []
    },
    {
      "cell_type": "markdown",
      "metadata": {
        "id": "Y9h8W9pvW-h9",
        "colab_type": "text"
      },
      "source": [
        "## Add campaigns column"
      ]
    },
    {
      "cell_type": "code",
      "metadata": {
        "id": "zKK-hdFodA2d",
        "colab_type": "code",
        "colab": {}
      },
      "source": [
        "# create a list of campaigns\n",
        "campaigns = ['looking-out-for-each-other',\n",
        "             'stay-home-for-your-family',\n",
        "             'symptoms',\n",
        "             'trifetica-lockup',\n",
        "             'age-specific',\n",
        "             'anyone-can-get-it',\n",
        "             'door-drop-campaign',\n",
        "             'hand-hygiene',\n",
        "             'nhs-resources',\n",
        "             'now-more-than-ever-every-mind-matters',\n",
        "             'ports-of-entry',\n",
        "             'stay-home-save-lives',\n",
        "             'subscribe-updates',\n",
        "             'phe']\n",
        "\n",
        "# function mapping URL to campaigns \n",
        "def adds_campaign_from_url(row):\n",
        "    for campaign in campaigns:\n",
        "        if re.search(campaign, row['path'], re.I) is not None:\n",
        "            return campaign\n",
        "\n",
        "# create campaign column\n",
        "pages['campaign'] = pages.apply(lambda row: adds_campaign_from_url(row), axis=1)\n",
        "\n",
        "# format campaign column\n",
        "pages['campaign'] = pages['campaign'].str.replace('-', ' ').str.title()\n",
        "\n",
        "# capitalise NHS and PHE in campaign column\n",
        "pages['campaign'] = pages['campaign'].str.replace('Nhs', 'NHS').str.replace('Phe', 'PHE')\n",
        "\n",
        "# dataframe preview\n",
        "pages.head()\n"
      ],
      "execution_count": 0,
      "outputs": []
    },
    {
      "cell_type": "markdown",
      "metadata": {
        "colab_type": "text",
        "id": "JDxwsWRfbO0J"
      },
      "source": [
        "## Send pages data to Google Shees\n",
        "Change worksheet name in the widget below if necessary"
      ]
    },
    {
      "cell_type": "code",
      "metadata": {
        "colab_type": "code",
        "id": "4g_IOsUSbO0K",
        "cellView": "form",
        "colab": {}
      },
      "source": [
        "#@title Sending to this worksheet tab:\n",
        "pages_worksheet = 'Page_views_API' #@param {type:\"string\"}\n",
        "# create list of lists without 'response type' column\n",
        "lol_pages = pages.values.tolist()\n",
        "\n",
        "# load values to relevant worksheet on the spreadsheet\n",
        "sh.values_append(\n",
        "    pages_worksheet, # worksheet name as it appears on the existing file\n",
        "    {'valueInputOption': 'USER_ENTERED'}, # as if entered by a person in Google Sheets UI\n",
        "    {'values': lol_pages} \n",
        "    )\n"
      ],
      "execution_count": 0,
      "outputs": []
    },
    {
      "cell_type": "markdown",
      "metadata": {
        "id": "_KOcQO2QyksI",
        "colab_type": "text"
      },
      "source": [
        ""
      ]
    },
    {
      "cell_type": "markdown",
      "metadata": {
        "id": "wwp5bWt2ynVN",
        "colab_type": "text"
      },
      "source": [
        "# Link web scraping"
      ]
    },
    {
      "cell_type": "markdown",
      "metadata": {
        "id": "emf6EVYc8yhr",
        "colab_type": "text"
      },
      "source": [
        "## Get a set of all pages from Google Sheet database"
      ]
    },
    {
      "cell_type": "code",
      "metadata": {
        "id": "fMo_LnOL_iuc",
        "colab_type": "code",
        "colab": {}
      },
      "source": [
        "# create worksheet object for page views tab\n",
        "wks_pages = gc.open('CRC_database').worksheet('Page_views_API')\n",
        "\n",
        "# get only values from the second column\n",
        "values_list = wks_pages.col_values(2)\n",
        "\n",
        "# create a set of pages \n",
        "set_of_pages = set(values_list)\n",
        "\n",
        "# remove column header from set and unwanted pages\n",
        "set_of_pages.difference_update({'Page', '/index.html', '/subscribe-updates'})\n"
      ],
      "execution_count": 0,
      "outputs": []
    },
    {
      "cell_type": "markdown",
      "metadata": {
        "id": "ADBzcc8R9DlW",
        "colab_type": "text"
      },
      "source": [
        "## BeautifulSoup"
      ]
    },
    {
      "cell_type": "code",
      "metadata": {
        "id": "Fye277CfyrcK",
        "colab_type": "code",
        "colab": {}
      },
      "source": [
        "import requests\n",
        "from bs4 import BeautifulSoup"
      ],
      "execution_count": 0,
      "outputs": []
    },
    {
      "cell_type": "code",
      "metadata": {
        "id": "l93zLkIazG4N",
        "colab_type": "code",
        "colab": {}
      },
      "source": [
        "# initiate a dictionary\n",
        "master = {}\n",
        "\n",
        "# iterate over all pages and append results to dictionary\n",
        "for page in set_of_pages:\n",
        "    try:\n",
        "        url = 'https://coronavirusresources.phe.gov.uk' + page\n",
        "        r = requests.get(url)\n",
        "        html_content = r.text\n",
        "    except Exception as e:\n",
        "        pass\n",
        "    soup = BeautifulSoup(html_content, 'lxml')\n",
        "    for link in soup.findAll('a', class_='download-button'):\n",
        "        string = str(link['href'])\n",
        "        cleaned = string.lstrip('https://downloads.coronavirusresources.phe.gov.uk/documents/')\n",
        "        master[str(page)] = cleaned\n"
      ],
      "execution_count": 0,
      "outputs": []
    },
    {
      "cell_type": "code",
      "metadata": {
        "id": "tMs-KsvX1CuB",
        "colab_type": "code",
        "colab": {}
      },
      "source": [
        "# fromat pandas tables to show full text\n",
        "pd.set_option('display.max_colwidth', -1)"
      ],
      "execution_count": 0,
      "outputs": []
    },
    {
      "cell_type": "markdown",
      "metadata": {
        "id": "AICANFWU9Xa5",
        "colab_type": "text"
      },
      "source": [
        "## Result dictionary to dataframe"
      ]
    },
    {
      "cell_type": "code",
      "metadata": {
        "id": "APZN4B7EdLLW",
        "colab_type": "code",
        "colab": {}
      },
      "source": [
        "data = pd.DataFrame([master])\n",
        "table = data.T.reset_index()\n",
        "table.columns = ['page', 'link']\n",
        "table.head()"
      ],
      "execution_count": 0,
      "outputs": []
    },
    {
      "cell_type": "markdown",
      "metadata": {
        "id": "fPheltAB9f5a",
        "colab_type": "text"
      },
      "source": [
        "## Format and claen - same as download file"
      ]
    },
    {
      "cell_type": "code",
      "metadata": {
        "id": "cLzeAO77dy32",
        "colab_type": "code",
        "colab": {}
      },
      "source": [
        "# remove file extensions and 'documnets/' from object name\n",
        "table['link'] = table['link'].str.replace(r'documents/|\\.zip|\\.wav|\\.jpg|\\.mp4','')\n",
        "\n",
        "# replace + _ %2B with space\n",
        "table['link'] = table['link'].str.replace('\\+|_|%2B',' ')\n",
        "\n",
        "# remove leading dates and typos 'i'\n",
        "table['link'] = table['link'].str.lstrip('0123456789. i')\n",
        "\n",
        "# preview file\n",
        "table.head()\n"
      ],
      "execution_count": 0,
      "outputs": []
    },
    {
      "cell_type": "markdown",
      "metadata": {
        "id": "LwLpeGtG9ygg",
        "colab_type": "text"
      },
      "source": [
        "## Create set of resources without campaign and/or type"
      ]
    },
    {
      "cell_type": "code",
      "metadata": {
        "id": "bHIuIx0CTmHk",
        "colab_type": "code",
        "colab": {}
      },
      "source": [
        "# create worksheet object for dowbloads tab\n",
        "wks_download = gc.open('CRC_database').worksheet('Downloads_API')\n",
        "\n",
        "# create a dataframe\n",
        "data = wks_download.get_all_values()\n",
        "headers = data.pop(0)\n",
        "res_df = pd.DataFrame(data, columns=headers)\n"
      ],
      "execution_count": 0,
      "outputs": []
    },
    {
      "cell_type": "code",
      "metadata": {
        "id": "Y6w_64M8Uisz",
        "colab_type": "code",
        "colab": {}
      },
      "source": [
        "# create sliced dataframes\n",
        "res_no_type = res_df[res_df['Resource type'] == '']\n",
        "res_no_camp = res_df[res_df['Campaign'] == '']\n",
        "\n",
        "# create sets to remove duplicates\n",
        "set_with_no_type = set(res_no_type['Resource'])\n",
        "set_with_no_camp = set(res_no_camp['Resource'])"
      ],
      "execution_count": 0,
      "outputs": []
    },
    {
      "cell_type": "code",
      "metadata": {
        "id": "2_L-JrqMVNKK",
        "colab_type": "code",
        "colab": {}
      },
      "source": [
        "set_with_no_type"
      ],
      "execution_count": 0,
      "outputs": []
    },
    {
      "cell_type": "code",
      "metadata": {
        "id": "VK2kQB1uY7Q0",
        "colab_type": "code",
        "colab": {}
      },
      "source": [
        "set_with_no_camp"
      ],
      "execution_count": 0,
      "outputs": []
    },
    {
      "cell_type": "markdown",
      "metadata": {
        "id": "zLpAw2in-Ek4",
        "colab_type": "text"
      },
      "source": [
        "## Resulting page-resource pairs in a dictionary"
      ]
    },
    {
      "cell_type": "code",
      "metadata": {
        "id": "qMszqNsWdyNv",
        "colab_type": "code",
        "colab": {}
      },
      "source": [
        "results = {}\n",
        "\n",
        "# choose if you want resource set with no type pairing\n",
        "# or set with no campaign pairing with pages\n",
        "for resource in set_with_no_type:\n",
        "    try:\n",
        "        pair = table[table['link'] == resource]\n",
        "        pair.reset_index(inplace=True)\n",
        "        results[pair['page'][0]] = pair['link'][0]\n",
        "    except IndexError:\n",
        "        pass\n",
        "\n",
        "results"
      ],
      "execution_count": 0,
      "outputs": []
    },
    {
      "cell_type": "markdown",
      "metadata": {
        "id": "1b0bprGr4D-N",
        "colab_type": "text"
      },
      "source": [
        "## Send zip file names data to Google Sheets"
      ]
    },
    {
      "cell_type": "code",
      "metadata": {
        "id": "BeijAs_Qk2Dl",
        "colab_type": "code",
        "cellView": "form",
        "colab": {}
      },
      "source": [
        "#@title Sending to this worksheet tab:\n",
        "bad_names_tab = 'Bad zip file names' #@param {type:\"string\"}\n",
        "\n",
        "# create a list of list for sh object below\n",
        "lol_results = [[k, v] for k,v in results.items()]\n",
        "\n",
        "# load values to relevant worksheet on the spreadsheet\n",
        "sh.values_append(\n",
        "    bad_names_tab, # worksheet name as it appears on the existing file\n",
        "    {'valueInputOption': 'USER_ENTERED'}, # as if entered by a person in Google Sheets UI\n",
        "    {'values': lol_results} \n",
        "    )\n"
      ],
      "execution_count": 0,
      "outputs": []
    }
  ]
}